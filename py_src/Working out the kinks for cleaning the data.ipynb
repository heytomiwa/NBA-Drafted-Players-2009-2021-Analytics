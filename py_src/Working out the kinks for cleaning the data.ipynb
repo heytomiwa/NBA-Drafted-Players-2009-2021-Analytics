{
 "cells": [
  {
   "cell_type": "code",
   "execution_count": null,
   "id": "2345efa5",
   "metadata": {},
   "outputs": [],
   "source": [
    "import pandas as pd\n",
    "import numpy as np\n",
    "import matplotlib.pyplot as plt\n",
    "import seaborn as sns\n",
    "%matplotlib inline\n",
    "\n",
    "import re"
   ]
  },
  {
   "cell_type": "code",
   "execution_count": null,
   "id": "a0a21ead",
   "metadata": {},
   "outputs": [],
   "source": [
    "df_2009 = pd.read_csv('../csv/nba_draft_2009.csv')"
   ]
  },
  {
   "cell_type": "code",
   "execution_count": null,
   "id": "2afb6cee",
   "metadata": {},
   "outputs": [],
   "source": [
    "df_2009.head()"
   ]
  },
  {
   "cell_type": "markdown",
   "id": "04ffea2b",
   "metadata": {},
   "source": [
    "Removing Unneccesary characters from Player Name. #IamtheKingOfCoding"
   ]
  },
  {
   "cell_type": "code",
   "execution_count": null,
   "id": "40c40223",
   "metadata": {},
   "outputs": [],
   "source": [
    "# df_2009[\"Player\"].str.replace(\"[*~#+]\",\"\")\n",
    "# df_2009['Player'].map(lambda x: x.rstrip('*~#+').rstrip(']').rstrip(r'[0-9]+')).map(lambda x: x.split('[')[0])\n",
    "# res = [int(sub.split('.')[1]) for sub in test_list]\n",
    "\n",
    "df_2009['Player'].map(lambda x: x.rstrip('*~#+')).map(lambda x: x.split('[')[0])"
   ]
  },
  {
   "cell_type": "markdown",
   "id": "3e7f3ee6",
   "metadata": {},
   "source": [
    "Removing Unneccesary characters from Nationality. #IamtheKingOfCoding"
   ]
  },
  {
   "cell_type": "code",
   "execution_count": null,
   "id": "44c785d6",
   "metadata": {},
   "outputs": [],
   "source": [
    "df_2009['Nationality'].map(lambda x: x.split('[')[0].split('\\xa0')[0])"
   ]
  },
  {
   "cell_type": "markdown",
   "id": "22911bb9",
   "metadata": {},
   "source": [
    "Removing Unneccesary characters from Team. #IamtheKingOfCoding"
   ]
  },
  {
   "cell_type": "code",
   "execution_count": null,
   "id": "679ef594",
   "metadata": {},
   "outputs": [],
   "source": [
    "df_2009['Team'].map(lambda x: x.split('[')[0].split('(')[0].rstrip(' '))"
   ]
  },
  {
   "cell_type": "markdown",
   "id": "f9934501",
   "metadata": {},
   "source": [
    "Removing Unneccesary characters from School/Club Team. #IamtheKingOfCoding"
   ]
  },
  {
   "cell_type": "code",
   "execution_count": null,
   "id": "42d301fb",
   "metadata": {},
   "outputs": [],
   "source": [
    "df_2009['School/Club Team'].map(lambda x: x.split('[')[0]).map(lambda x: x.split('(')[0].rstrip(' ') if len(re.findall(\"Fr.\", x))!=0 or len(re.findall(\"So.\", x))!=0 or len(re.findall(\"Jr.\", x))!=0 or len(re.findall(\"Sr.\", x))!=0 else x)"
   ]
  },
  {
   "cell_type": "code",
   "execution_count": null,
   "id": "820727df",
   "metadata": {},
   "outputs": [],
   "source": [
    "df_2009"
   ]
  },
  {
   "cell_type": "code",
   "execution_count": null,
   "id": "d63b0bd7",
   "metadata": {},
   "outputs": [],
   "source": [
    "# Removing Unneccesary characters from School/Club Team. #IamtheKingOfCoding\n",
    "def clean_player(x):\n",
    "    x = x.rstrip('*~#+').split('[')[0]\n",
    "    return x\n",
    "\n",
    "def clean_nationality(x):\n",
    "    x = x.split('[')[0].split('\\xa0')[0]\n",
    "    return x\n",
    "\n",
    "def clean_team(x):\n",
    "    x = x.split('[')[0].split('(')[0].rstrip(' ')\n",
    "    return x\n",
    "        \n",
    "def clean_school_club_team(x):\n",
    "    x = x.split('[')[0]\n",
    "    if len(re.findall(\"Fr.\", x))!=0 or len(re.findall(\"So.\", x))!=0 or len(re.findall(\"Jr.\", x))!=0 or len(re.findall(\"Sr.\", x))!=0:\n",
    "        x = x.split('(')[0].rstrip(' ')\n",
    "    return x\n",
    "\n",
    "# df_2009['Player'].apply(clean_player)\n",
    "# df_2009['Nationality'].apply(clean_nationality)\n",
    "# df_2009['Team'].apply(clean_team)\n",
    "df_2009['School/Club Team'].apply(clean_school_club_team)\n",
    "\n",
    "    "
   ]
  },
  {
   "cell_type": "code",
   "execution_count": null,
   "id": "0477151c",
   "metadata": {},
   "outputs": [],
   "source": [
    "df['']"
   ]
  },
  {
   "cell_type": "code",
   "execution_count": null,
   "id": "a0a879bc",
   "metadata": {},
   "outputs": [],
   "source": [
    "def create_status(x):\n",
    "    if re.findall(\"Fr.\", x):\n",
    "        y = \"College Freshman\"\n",
    "    elif re.findall(\"So.\", x):\n",
    "        y = \"College Sophmore\"\n",
    "    elif re.findall(\"Jr.\", x):\n",
    "        y = \"College Junior\"\n",
    "    elif re.findall(\"Sr.\", x):\n",
    "        y = \"College Senior\"\n",
    "    elif re.findall(\"G League\", x):\n",
    "        y =\"NBA G League Player\"\n",
    "    else:\n",
    "        y = \"Playing Internationally\"\n",
    "        \n",
    "    return y"
   ]
  },
  {
   "cell_type": "code",
   "execution_count": null,
   "id": "66a48b3e",
   "metadata": {},
   "outputs": [],
   "source": [
    "df_2009['School/Club Team'].apply(create_status)"
   ]
  },
  {
   "cell_type": "code",
   "execution_count": null,
   "id": "258d410e",
   "metadata": {},
   "outputs": [],
   "source": [
    "df_2009['Status'] = df_2009['School/Club Team'].apply(create_status)"
   ]
  },
  {
   "cell_type": "code",
   "execution_count": null,
   "id": "49a4c3e4",
   "metadata": {},
   "outputs": [],
   "source": [
    "df_2009"
   ]
  },
  {
   "cell_type": "code",
   "execution_count": null,
   "id": "563bc00d",
   "metadata": {},
   "outputs": [],
   "source": [
    "df_2009['Team']"
   ]
  },
  {
   "cell_type": "code",
   "execution_count": null,
   "id": "f526e76f",
   "metadata": {},
   "outputs": [],
   "source": [
    "def create_traded_to_a_different_team(x):\n",
    "    if re.findall(\"from\", x) or re.findall(\"traded\", x) or re.findall(\"via\", x):\n",
    "        y = \"Yes\"\n",
    "    else:\n",
    "        y = \"No\"\n",
    "        \n",
    "    return y"
   ]
  },
  {
   "cell_type": "code",
   "execution_count": null,
   "id": "a2ce99c7",
   "metadata": {},
   "outputs": [],
   "source": [
    "df_2009['Traded to a different team'] = df_2009['Team'].apply(create_traded_to_a_different_team)"
   ]
  },
  {
   "cell_type": "code",
   "execution_count": null,
   "id": "976e2b3f",
   "metadata": {},
   "outputs": [],
   "source": [
    "df_2009"
   ]
  },
  {
   "cell_type": "code",
   "execution_count": null,
   "id": "529b3164",
   "metadata": {},
   "outputs": [],
   "source": []
  }
 ],
 "metadata": {
  "kernelspec": {
   "display_name": "Python 3 (ipykernel)",
   "language": "python",
   "name": "python3"
  },
  "language_info": {
   "codemirror_mode": {
    "name": "ipython",
    "version": 3
   },
   "file_extension": ".py",
   "mimetype": "text/x-python",
   "name": "python",
   "nbconvert_exporter": "python",
   "pygments_lexer": "ipython3",
   "version": "3.9.7"
  }
 },
 "nbformat": 4,
 "nbformat_minor": 5
}
