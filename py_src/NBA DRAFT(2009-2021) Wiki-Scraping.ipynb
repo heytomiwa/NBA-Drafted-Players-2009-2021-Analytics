{
 "cells": [
  {
   "cell_type": "code",
   "execution_count": null,
   "metadata": {
    "vscode": {
     "languageId": "plaintext"
    }
   },
   "outputs": [],
   "source": [
    "# Import Libraries.\n",
    "\n",
    "import os\n",
    "import requests\n",
    "import time\n",
    "import datetime\n",
    "\n",
    "import pandas as pd\n",
    "import numpy as np\n",
    "import matplotlib.pyplot as plt\n",
    "import seaborn as sns\n",
    "%matplotlib inline\n",
    "\n",
    "\"\"\"Maybe make it into a job that extracts and sends a completion email every year.\"\"\"\n",
    "# import smtplib \n",
    "\n"
   ]
  },
  {
   "cell_type": "markdown",
   "metadata": {},
   "source": [
    "## Extracting Data on NBA Draft from 2019-2021."
   ]
  },
  {
   "cell_type": "code",
   "execution_count": null,
   "metadata": {},
   "outputs": [],
   "source": [
    "# Creating a list of draft years.\n",
    "\n",
    "current_year = datetime.date.today().year\n",
    "draft_years = [year for year in range(2009, (current_year))]\n",
    "draft_years"
   ]
  },
  {
   "cell_type": "code",
   "execution_count": null,
   "metadata": {},
   "outputs": [],
   "source": [
    "# Creating Dataset Directory\n",
    "\n",
    "# Directory\n",
    "directory = \"csv\"\n",
    "  \n",
    "# Parent Directory path\n",
    "parent_dir = \"../\"\n",
    "  \n",
    "# Path\n",
    "path = os.path.join(parent_dir, directory)\n",
    "  \n",
    "# Create the directory\n",
    "try:\n",
    "    os.mkdir(path)\n",
    "    print(\"Dataset Directory '% s' created.\" % directory)\n",
    "except FileExistsError:\n",
    "    print(\"Dataset Directory '% s' already exists.\" % directory)"
   ]
  },
  {
   "cell_type": "code",
   "execution_count": null,
   "metadata": {},
   "outputs": [],
   "source": [
    "# Connect to WIKI Page, load data into pandas dataframe and save as .csv file.\n",
    "\n",
    "dataset_fields = ['Round', 'Pick', 'Player', 'Position', 'Nationality', 'Team', 'School/Club Team']\n",
    "\n",
    "for draft_year in draft_years:\n",
    "    URL = 'https://en.wikipedia.org/wiki/'+str(draft_year)+'_NBA_draft'\n",
    "\n",
    "    # headers = {}\n",
    "\n",
    "    wiki_page = requests.get(URL, timeout=5, verify=True)\n",
    "    df = pd.read_html(wiki_page.text)\n",
    "    df = df[3]\n",
    "    df.columns = dataset_fields\n",
    "    df.to_csv('../csv/nba_draft_'+'{}'.format(draft_year)+'.csv', index=False)\n",
    "    print('NBA Draft '+'{}'.format(draft_year)+' data Successfully loaded...')\n",
    "\n",
    "print('Extraction Complete!')"
   ]
  },
  {
   "cell_type": "code",
   "execution_count": null,
   "metadata": {},
   "outputs": [],
   "source": []
  }
 ],
 "metadata": {
  "kernelspec": {
   "display_name": "Python 3 (ipykernel)",
   "language": "python",
   "name": "python3"
  },
  "language_info": {
   "codemirror_mode": {
    "name": "ipython",
    "version": 3
   },
   "file_extension": ".py",
   "mimetype": "text/x-python",
   "name": "python",
   "nbconvert_exporter": "python",
   "pygments_lexer": "ipython3",
   "version": "3.9.7"
  }
 },
 "nbformat": 4,
 "nbformat_minor": 2
}
