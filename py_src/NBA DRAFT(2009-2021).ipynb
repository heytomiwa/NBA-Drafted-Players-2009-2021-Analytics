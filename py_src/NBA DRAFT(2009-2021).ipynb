{
 "cells": [
  {
   "cell_type": "code",
   "execution_count": null,
   "id": "b8341a7a",
   "metadata": {},
   "outputs": [],
   "source": [
    "import pandas as pd\n",
    "import numpy as np\n",
    "import matplotlib.pyplot as plt\n",
    "import seaborn as sns\n",
    "%matplotlib inline"
   ]
  },
  {
   "cell_type": "code",
   "execution_count": null,
   "id": "42320efe",
   "metadata": {},
   "outputs": [],
   "source": [
    "df_2009 = pd.read_csv('../csv/nba_draft_2009.csv')\n",
    "df_2010 = pd.read_csv('../csv/nba_draft_2010.csv')\n",
    "df_2011 = pd.read_csv('../csv/nba_draft_2011.csv')\n",
    "df_2012 = pd.read_csv('../csv/nba_draft_2012.csv')\n",
    "df_2013 = pd.read_csv('../csv/nba_draft_2013.csv')\n",
    "df_2014 = pd.read_csv('../csv/nba_draft_2014.csv')\n",
    "df_2015 = pd.read_csv('../csv/nba_draft_2015.csv')\n",
    "df_2016 = pd.read_csv('../csv/nba_draft_2016.csv')\n",
    "df_2017 = pd.read_csv('../csv/nba_draft_2017.csv')\n",
    "df_2018 = pd.read_csv('../csv/nba_draft_2018.csv')\n",
    "df_2019 = pd.read_csv('../csv/nba_draft_2019.csv')\n",
    "df_2020 = pd.read_csv('../csv/nba_draft_2020.csv')\n",
    "df_2021 = pd.read_csv('../csv/nba_draft_2021.csv')"
   ]
  },
  {
   "cell_type": "code",
   "execution_count": null,
   "id": "84efdc6a",
   "metadata": {},
   "outputs": [],
   "source": [
    "df_2009['Year'] = 2009\n",
    "df_2010['Year'] = 2010\n",
    "df_2011['Year'] = 2011\n",
    "df_2012['Year'] = 2012\n",
    "df_2013['Year'] = 2013\n",
    "df_2014['Year'] = 2014\n",
    "df_2015['Year'] = 2015\n",
    "df_2016['Year'] = 2016\n",
    "df_2017['Year'] = 2017\n",
    "df_2018['Year'] = 2018\n",
    "df_2019['Year'] = 2019\n",
    "df_2020['Year'] = 2020\n",
    "df_2021['Year'] = 2021"
   ]
  },
  {
   "cell_type": "code",
   "execution_count": null,
   "id": "1eecb6e5",
   "metadata": {},
   "outputs": [],
   "source": [
    "df = pd.concat(\n",
    "    [df_2009,\n",
    "     df_2010,\n",
    "     df_2011,\n",
    "     df_2012,\n",
    "     df_2013,\n",
    "     df_2014,\n",
    "     df_2015,\n",
    "     df_2016,\n",
    "     df_2017,\n",
    "     df_2018,\n",
    "     df_2019,\n",
    "     df_2020,\n",
    "     df_2021],\n",
    "    ignore_index=True\n",
    ")"
   ]
  },
  {
   "cell_type": "code",
   "execution_count": null,
   "id": "1d95b488",
   "metadata": {},
   "outputs": [],
   "source": [
    "df.to_csv('../csv/all_nba_drafts_2019_2021.csv', index=False)"
   ]
  },
  {
   "cell_type": "code",
   "execution_count": null,
   "id": "cec68314",
   "metadata": {},
   "outputs": [],
   "source": []
  }
 ],
 "metadata": {
  "kernelspec": {
   "display_name": "Python 3 (ipykernel)",
   "language": "python",
   "name": "python3"
  },
  "language_info": {
   "codemirror_mode": {
    "name": "ipython",
    "version": 3
   },
   "file_extension": ".py",
   "mimetype": "text/x-python",
   "name": "python",
   "nbconvert_exporter": "python",
   "pygments_lexer": "ipython3",
   "version": "3.9.7"
  }
 },
 "nbformat": 4,
 "nbformat_minor": 5
}
