{
 "cells": [
  {
   "cell_type": "code",
   "execution_count": 57,
   "metadata": {},
   "outputs": [
    {
     "data": {
      "text/plain": [
       "'Maybe make it into a job that extracts and sends a completion email every year.'"
      ]
     },
     "execution_count": 57,
     "metadata": {},
     "output_type": "execute_result"
    }
   ],
   "source": [
    "# Import Libraries.\n",
    "\n",
    "import os\n",
    "import requests\n",
    "import time\n",
    "import datetime\n",
    "import re\n",
    "\n",
    "import pandas as pd\n",
    "import numpy as np\n",
    "import matplotlib.pyplot as plt\n",
    "import seaborn as sns\n",
    "%matplotlib inline\n",
    "\n",
    "\"\"\"Maybe make it into a job that extracts and sends a completion email every year.\"\"\"\n",
    "# import smtplib \n",
    "\n"
   ]
  },
  {
   "cell_type": "markdown",
   "metadata": {},
   "source": [
    "## Extracting Data on NBA Draft from 2019-2021."
   ]
  },
  {
   "cell_type": "code",
   "execution_count": 58,
   "metadata": {},
   "outputs": [
    {
     "data": {
      "text/plain": [
       "['Round',\n",
       " 'Pick',\n",
       " 'Player',\n",
       " 'Position',\n",
       " 'Nationality',\n",
       " 'Team',\n",
       " 'School/club team']"
      ]
     },
     "execution_count": 58,
     "metadata": {},
     "output_type": "execute_result"
    }
   ],
   "source": [
    "# Creating a list of draft years.\n",
    "\n",
    "current_year = datetime.date.today().year\n",
    "draft_years = [year for year in range(1989, (current_year)+1)]\n",
    "columns = ['Round', 'Pick', 'Player', 'Position', 'Nationality', 'Team', 'School/club team']\n",
    "columns"
   ]
  },
  {
   "cell_type": "markdown",
   "metadata": {},
   "source": [
    "Function to create new columns:"
   ]
  },
  {
   "cell_type": "code",
   "execution_count": 59,
   "metadata": {},
   "outputs": [],
   "source": [
    "def create_new_columns(df):\n",
    "    \n",
    "    def create_traded_to_a_different_team(x):\n",
    "        if re.findall(\"from\", str(x)) or re.findall(\"traded\", str(x)) or re.findall(\"via\", str(x)):\n",
    "            y = \"Yes\"\n",
    "        else:\n",
    "            y = \"No\"  \n",
    "        return y\n",
    "\n",
    "    def create_status(x):\n",
    "        if re.findall(\"Fr.\", str(x)):\n",
    "            y = \"College Freshman\"\n",
    "        elif re.findall(\"So.\", str(x)):\n",
    "            y = \"College Sophmore\"\n",
    "        elif re.findall(\"Jr.\", str(x)):\n",
    "            y = \"College Junior\"\n",
    "        elif re.findall(\"Sr.\", str(x)):\n",
    "            y = \"College Senior\"\n",
    "        elif re.findall(\"G League\", str(x)):\n",
    "            y =\"NBA G League Player\"\n",
    "        else:\n",
    "            y = \"Playing Internationally\" \n",
    "        return y\n",
    "\n",
    "\n",
    "    df['Traded to a different team'] = df[columns[5]].apply(create_traded_to_a_different_team)\n",
    "    df['Status'] = df[columns[6]].apply(create_status)\n",
    "    \n",
    "    return df"
   ]
  },
  {
   "cell_type": "markdown",
   "metadata": {},
   "source": [
    "Function to clean the data:"
   ]
  },
  {
   "cell_type": "code",
   "execution_count": 60,
   "metadata": {},
   "outputs": [],
   "source": [
    "# Function to clean the data.\n",
    "\n",
    "def clean_data(df):\n",
    "    \n",
    "    def clean_player(x):\n",
    "        x = x.rstrip('*~#+').split('[')[0]\n",
    "        return x\n",
    "\n",
    "    def clean_nationality(x):\n",
    "        x = x.split('[')[0].split('\\xa0')[0]\n",
    "        return x\n",
    "\n",
    "    def clean_team(x):\n",
    "        x = x.split('[')[0].split('(')[0].rstrip(' ')\n",
    "        return x\n",
    "\n",
    "    def clean_school_club_team(x):\n",
    "        x = x.split('[')[0]\n",
    "        if len(re.findall(\"Fr.\", x))!=0 or len(re.findall(\"So.\", x))!=0 or len(re.findall(\"Jr.\", x))!=0 or len(re.findall(\"Sr.\", x))!=0 or len(re.findall(\"G League\", x))!=0:\n",
    "            x = x.split('(')[0].rstrip(' ')\n",
    "        return x\n",
    "    \n",
    "    \n",
    "    df.fillna('', inplace=True)\n",
    "\n",
    "    df[columns[2]] = df[columns[2]].apply(clean_player)\n",
    "    df[columns[4]] = df[columns[4]].apply(clean_nationality)\n",
    "    df[columns[5]] = df[columns[5]].apply(clean_team)\n",
    "    df[columns[6]] = df[columns[6]].apply(clean_school_club_team)\n",
    "    \n",
    "    df[columns[0]] = df[columns[0]].replace([''], -1)\n",
    "    df[columns[1]] = df[columns[1]].replace([''], -1)\n",
    "\n",
    "    \n",
    "    df[columns[0]] = df[columns[0]].astype(int, errors='ignore')\n",
    "    df[columns[1]] = df[columns[1]].astype(int, errors='ignore')\n",
    "    \n",
    "    return df"
   ]
  },
  {
   "cell_type": "code",
   "execution_count": 61,
   "metadata": {},
   "outputs": [
    {
     "name": "stdout",
     "output_type": "stream",
     "text": [
      "Dataset Directory 'csv' already exists.\n"
     ]
    }
   ],
   "source": [
    "# Creating Dataset Directory\n",
    "\n",
    "# Directory\n",
    "directory = \"csv\"\n",
    "  \n",
    "# Parent Directory path\n",
    "parent_dir = \"../\"\n",
    "  \n",
    "# Path\n",
    "path = os.path.join(parent_dir, directory)\n",
    "  \n",
    "# Create the directory\n",
    "try:\n",
    "    os.mkdir(path)\n",
    "    print(\"Dataset Directory '% s' created\" % directory)\n",
    "except FileExistsError:\n",
    "    print(\"Dataset Directory '% s' already exists.\" % directory)"
   ]
  },
  {
   "cell_type": "code",
   "execution_count": 65,
   "metadata": {},
   "outputs": [
    {
     "name": "stdout",
     "output_type": "stream",
     "text": [
      "NBA Draft 1989 data Successfully loaded and transformed...\n",
      "NBA Draft 1990 data Successfully loaded and transformed...\n",
      "NBA Draft 1991 data Successfully loaded and transformed...\n",
      "NBA Draft 1992 data Successfully loaded and transformed...\n",
      "NBA Draft 1993 data Successfully loaded and transformed...\n",
      "NBA Draft 1994 data Successfully loaded and transformed...\n",
      "NBA Draft 1995 data Successfully loaded and transformed...\n",
      "NBA Draft 1996 data Successfully loaded and transformed...\n",
      "NBA Draft 1997 data Successfully loaded and transformed...\n",
      "NBA Draft 1998 data Successfully loaded and transformed...\n",
      "NBA Draft 1999 data Successfully loaded and transformed...\n",
      "NBA Draft 2000 data Successfully loaded and transformed...\n",
      "NBA Draft 2001 data Successfully loaded and transformed...\n",
      "NBA Draft 2002 data Successfully loaded and transformed...\n",
      "NBA Draft 2003 data Successfully loaded and transformed...\n",
      "NBA Draft 2004 data Successfully loaded and transformed...\n",
      "NBA Draft 2005 data Successfully loaded and transformed...\n",
      "NBA Draft 2006 data Successfully loaded and transformed...\n",
      "NBA Draft 2007 data Successfully loaded and transformed...\n",
      "NBA Draft 2008 data Successfully loaded and transformed...\n",
      "NBA Draft 2009 data Successfully loaded and transformed...\n",
      "NBA Draft 2010 data Successfully loaded and transformed...\n",
      "NBA Draft 2011 data Successfully loaded and transformed...\n",
      "NBA Draft 2012 data Successfully loaded and transformed...\n",
      "NBA Draft 2013 data Successfully loaded and transformed...\n",
      "NBA Draft 2014 data Successfully loaded and transformed...\n",
      "NBA Draft 2015 data Successfully loaded and transformed...\n",
      "NBA Draft 2016 data Successfully loaded and transformed...\n",
      "NBA Draft 2017 data Successfully loaded and transformed...\n",
      "NBA Draft 2018 data Successfully loaded and transformed...\n",
      "NBA Draft 2019 data Successfully loaded and transformed...\n",
      "NBA Draft 2020 data Successfully loaded and transformed...\n",
      "NBA Draft 2021 data Successfully loaded and transformed...\n",
      "NBA Draft 2022 data Successfully loaded and transformed...\n",
      "Extraction and Transformation Complete!\n"
     ]
    }
   ],
   "source": [
    "# Connect to WIKI Page, load data into pandas dataframe and save as .csv file.\n",
    "\n",
    "dataframe = pd.DataFrame()\n",
    "\n",
    "for draft_year in draft_years:\n",
    "    URL = 'https://en.wikipedia.org/wiki/'+str(draft_year)+'_NBA_draft'\n",
    "\n",
    "    # headers = {}\n",
    "\n",
    "    wiki_page = requests.get(URL, timeout=5, verify=True)\n",
    "    df = pd.read_html(wiki_page.text)\n",
    "    if draft_year != 2022:\n",
    "        df = df[3]\n",
    "    else:\n",
    "        df = df[1]\n",
    "    df.columns = columns\n",
    "    create_new_columns(df)\n",
    "    clean_data(df)\n",
    "    df.to_csv('../csv/nba_draft_'+'{}'.format(draft_year)+'.csv', index=False)\n",
    "    df['Draft year'] = draft_year\n",
    "    dataframe = dataframe.append(df)\n",
    "    print('NBA Draft '+'{}'.format(draft_year)+' data Successfully loaded and transformed...')\n",
    "\n",
    "dataframe.to_csv('../csv/allNBADrafts.csv', index=False)\n",
    "print('Extraction and Transformation Complete!')"
   ]
  }
 ],
 "metadata": {
  "interpreter": {
   "hash": "f362fe63f24a85dced521517f4cd540eb4268263eca4ed1304ff42c71c4e52c0"
  },
  "kernelspec": {
   "display_name": "Python 3.9.7 ('base')",
   "language": "python",
   "name": "python3"
  },
  "language_info": {
   "codemirror_mode": {
    "name": "ipython",
    "version": 3
   },
   "file_extension": ".py",
   "mimetype": "text/x-python",
   "name": "python",
   "nbconvert_exporter": "python",
   "pygments_lexer": "ipython3",
   "version": "3.9.7"
  }
 },
 "nbformat": 4,
 "nbformat_minor": 2
}
