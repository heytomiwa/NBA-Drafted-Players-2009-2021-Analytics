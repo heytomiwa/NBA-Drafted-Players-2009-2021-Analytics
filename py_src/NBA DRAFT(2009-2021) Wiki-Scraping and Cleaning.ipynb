{
 "cells": [
  {
   "cell_type": "code",
   "execution_count": null,
   "metadata": {
    "vscode": {
     "languageId": "plaintext"
    }
   },
   "outputs": [],
   "source": [
    "# Import Libraries.\n",
    "\n",
    "import os\n",
    "import requests\n",
    "import time\n",
    "import datetime\n",
    "import re\n",
    "\n",
    "import pandas as pd\n",
    "import numpy as np\n",
    "import matplotlib.pyplot as plt\n",
    "import seaborn as sns\n",
    "%matplotlib inline\n",
    "\n",
    "\"\"\"Maybe make it into a job that extracts and sends a completion email every year.\"\"\"\n",
    "# import smtplib \n",
    "\n"
   ]
  },
  {
   "cell_type": "markdown",
   "metadata": {},
   "source": [
    "## Extracting Data on NBA Draft from 2019-2021."
   ]
  },
  {
   "cell_type": "code",
   "execution_count": null,
   "metadata": {},
   "outputs": [],
   "source": [
    "# Creating a list of draft years.\n",
    "\n",
    "current_year = datetime.date.today().year\n",
    "draft_years = [year for year in range(2009, (current_year))]\n",
    "columns = ['Round', 'Pick', 'Player', 'Position', 'Nationality', 'Team', 'School/club team']\n",
    "columns"
   ]
  },
  {
   "cell_type": "markdown",
   "metadata": {},
   "source": [
    "Function to create new columns:"
   ]
  },
  {
   "cell_type": "code",
   "execution_count": null,
   "metadata": {},
   "outputs": [],
   "source": [
    "def create_new_columns(df):\n",
    "    \n",
    "    def create_traded_to_a_different_team(x):\n",
    "        if re.findall(\"from\", x) or re.findall(\"traded\", x) or re.findall(\"via\", x):\n",
    "            y = \"Yes\"\n",
    "        else:\n",
    "            y = \"No\"  \n",
    "        return y\n",
    "\n",
    "    def create_status(x):\n",
    "        if re.findall(\"Fr.\", x):\n",
    "            y = \"College Freshman\"\n",
    "        elif re.findall(\"So.\", x):\n",
    "            y = \"College Sophmore\"\n",
    "        elif re.findall(\"Jr.\", x):\n",
    "            y = \"College Junior\"\n",
    "        elif re.findall(\"Sr.\", x):\n",
    "            y = \"College Senior\"\n",
    "        elif re.findall(\"G League\", x):\n",
    "            y =\"NBA G League Player\"\n",
    "        else:\n",
    "            y = \"Playing Internationally\" \n",
    "        return y\n",
    "\n",
    "    df['Traded to a different team'] = df[columns[5]].apply(create_traded_to_a_different_team)\n",
    "    df['Status'] = df[columns[6]].apply(create_status)\n",
    "    \n",
    "    return df"
   ]
  },
  {
   "cell_type": "markdown",
   "metadata": {},
   "source": [
    "Function to clean the data:"
   ]
  },
  {
   "cell_type": "code",
   "execution_count": null,
   "metadata": {},
   "outputs": [],
   "source": [
    "# Function to clean the data.\n",
    "\n",
    "def clean_data(df):\n",
    "    \n",
    "    def clean_player(x):\n",
    "        x = x.rstrip('*~#+').split('[')[0]\n",
    "        return x\n",
    "\n",
    "    def clean_nationality(x):\n",
    "        x = x.split('[')[0].split('\\xa0')[0]\n",
    "        return x\n",
    "\n",
    "    def clean_team(x):\n",
    "        x = x.split('[')[0].split('(')[0].rstrip(' ')\n",
    "        return x\n",
    "\n",
    "    def clean_school_club_team(x):\n",
    "        x = x.split('[')[0]\n",
    "        if len(re.findall(\"Fr.\", x))!=0 or len(re.findall(\"So.\", x))!=0 or len(re.findall(\"Jr.\", x))!=0 or len(re.findall(\"Sr.\", x))!=0 or len(re.findall(\"G League\", x))!=0:\n",
    "            x = x.split('(')[0].rstrip(' ')\n",
    "        return x\n",
    "    \n",
    "\n",
    "    df[columns[2]] = df[columns[2]].apply(clean_player)\n",
    "    df[columns[4]] = df[columns[4]].apply(clean_nationality)\n",
    "    df[columns[5]] = df[columns[5]].apply(clean_team)\n",
    "    df[columns[6]] = df[columns[6]].apply(clean_school_club_team)\n",
    "    \n",
    "    df.fillna(-1, inplace=True)\n",
    "    df[columns[0]] = df[columns[0]].astype(int)\n",
    "    df[columns[1]] = df[columns[1]].astype(int)\n",
    "    \n",
    "    return df"
   ]
  },
  {
   "cell_type": "code",
   "execution_count": null,
   "metadata": {},
   "outputs": [],
   "source": [
    "# Creating Dataset Directory\n",
    "\n",
    "# Directory\n",
    "directory = \"csv\"\n",
    "  \n",
    "# Parent Directory path\n",
    "parent_dir = \"../\"\n",
    "  \n",
    "# Path\n",
    "path = os.path.join(parent_dir, directory)\n",
    "  \n",
    "# Create the directory\n",
    "try:\n",
    "    os.mkdir(path)\n",
    "    print(\"Dataset Directory '% s' created\" % directory)\n",
    "except FileExistsError:\n",
    "    print(\"Dataset Directory '% s' already exists.\" % directory)"
   ]
  },
  {
   "cell_type": "code",
   "execution_count": null,
   "metadata": {},
   "outputs": [],
   "source": [
    "# Connect to WIKI Page, load data into pandas dataframe and save as .csv file.\n",
    "\n",
    "\n",
    "for draft_year in draft_years:\n",
    "    URL = 'https://en.wikipedia.org/wiki/'+str(draft_year)+'_NBA_draft'\n",
    "\n",
    "    # headers = {}\n",
    "\n",
    "    wiki_page = requests.get(URL, timeout=5, verify=True)\n",
    "    df = pd.read_html(wiki_page.text)\n",
    "    df = df[3]\n",
    "    df.columns = columns\n",
    "    create_new_columns(df)\n",
    "    clean_data(df)\n",
    "    df.to_csv('../csv/nba_draft_'+'{}'.format(draft_year)+'.csv', index=False)\n",
    "    print('NBA Draft '+'{}'.format(draft_year)+' data Successfully loaded and transformed...')\n",
    "\n",
    "print('Extraction and Transformation Complete!')"
   ]
  },
  {
   "cell_type": "code",
   "execution_count": null,
   "metadata": {},
   "outputs": [],
   "source": []
  }
 ],
 "metadata": {
  "kernelspec": {
   "display_name": "Python 3 (ipykernel)",
   "language": "python",
   "name": "python3"
  },
  "language_info": {
   "codemirror_mode": {
    "name": "ipython",
    "version": 3
   },
   "file_extension": ".py",
   "mimetype": "text/x-python",
   "name": "python",
   "nbconvert_exporter": "python",
   "pygments_lexer": "ipython3",
   "version": "3.9.7"
  }
 },
 "nbformat": 4,
 "nbformat_minor": 2
}
